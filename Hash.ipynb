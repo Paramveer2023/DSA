{
 "cells": [
  {
   "cell_type": "code",
   "execution_count": 12,
   "id": "f7918f45",
   "metadata": {},
   "outputs": [],
   "source": [
    "class dictionary:\n",
    "    def __init__(self,size):\n",
    "        self.size = int(size)\n",
    "        self.slot = [None] * self.size\n",
    "        self.data = [None] * self.size\n",
    "    \n",
    "    def put(self,key,value):\n",
    "        hash_value = self.hash_function(key)\n",
    "\n",
    "        if self.slot[hash_value]==None:\n",
    "            self.slot[hash_value] = key\n",
    "            self.data[hash_value] = value\n",
    "        else:\n",
    "            if self.slot[hash_value] == key:\n",
    "                self.data[hash_value] = value \n",
    "            else:\n",
    "                new_hash_value = self.rehash(hash_value)\n",
    "                while self.slot[new_hash_value] != None and self.slot[new_hash_value]!=key:\n",
    "                    new_hash_value = self.rehash(new_hash_value)\n",
    "                if self.slot[new_hash_value]==None:\n",
    "                    self.data[new_hash_value] = value\n",
    "                    self.slot[new_hash_value] = key\n",
    "                else:\n",
    "                    self.slot[new_hash_value] = key\n",
    "                    \n",
    "    def __setitem__(self,key,value):\n",
    "        return self.put(key,value)\n",
    "    \n",
    "    def get(self,key):\n",
    "        start = self.hash_function(key)\n",
    "        curr = start\n",
    "        \n",
    "        while self.slot[curr]!=None:\n",
    "            if self.slot[curr]==key:\n",
    "                return self.data[curr]\n",
    "            \n",
    "            curr = self.rehash(curr)\n",
    "            \n",
    "            if curr==start:\n",
    "                return \"Not_found\"\n",
    "            return \"Not found\"\n",
    "        \n",
    "    def __getitem__(self,key):\n",
    "        return self.get(key)\n",
    "    \n",
    "    def rehash(self,old_hash):\n",
    "        return (old_hash +1) % self.size \n",
    "    \n",
    "    def hash_function(self,key):\n",
    "        return abs(hash(key)) % self.size\n",
    "    \n",
    "    def __str__(self):\n",
    "        for i in range(self.size):\n",
    "            if self.slot[i]!=None:\n",
    "                res = ''\n",
    "                print(self.slot[i],\":\",self.data[i])\n",
    "        return \"\"\n",
    "        "
   ]
  },
  {
   "cell_type": "code",
   "execution_count": 13,
   "id": "c7a807f2",
   "metadata": {},
   "outputs": [],
   "source": [
    "a = dictionary(5)\n",
    "a.put('param',85)\n",
    "a.put('shrutu',75)\n",
    "a.put('isha',14)\n",
    "a.put('garde',75)\n",
    "a.put('mungi',42)\n"
   ]
  },
  {
   "cell_type": "code",
   "execution_count": 14,
   "id": "0df4afe2",
   "metadata": {},
   "outputs": [
    {
     "name": "stdout",
     "output_type": "stream",
     "text": [
      "isha : 14\n",
      "param : 85\n",
      "garde : 75\n",
      "mungi : 42\n",
      "shrutu : 75\n",
      "\n"
     ]
    }
   ],
   "source": [
    "print(a)"
   ]
  },
  {
   "cell_type": "code",
   "execution_count": null,
   "id": "0006ec48",
   "metadata": {},
   "outputs": [],
   "source": []
  },
  {
   "cell_type": "code",
   "execution_count": 15,
   "id": "e73a0f9c",
   "metadata": {},
   "outputs": [],
   "source": [
    "# Chaining in hash"
   ]
  },
  {
   "cell_type": "code",
   "execution_count": 26,
   "id": "bd20c186",
   "metadata": {},
   "outputs": [],
   "source": [
    "class node:\n",
    "    def __init__(self,value,key):\n",
    "        self.value=value\n",
    "        self.key=key\n",
    "        self.next=None\n",
    "class LL:\n",
    "    def __init__(self):\n",
    "        self.head=None \n",
    "        self.n=0\n",
    "        \n",
    "    def __len__(self):\n",
    "        return self.n\n",
    "        \n",
    "    def add(self,value,key):\n",
    "        new_node = node(value)\n",
    "        if self.head == None:\n",
    "            self.head =  new_node \n",
    "            self.n+=1\n",
    "        else:\n",
    "            curr = self.head\n",
    "            while curr.next!=None:\n",
    "                curr = curr.next\n",
    "            curr.next = new_node\n",
    "            self.n+=1\n",
    "        \n",
    "    def remove(self,key):\n",
    "        if self.head.key==key:\n",
    "            self.clear_head()\n",
    "            return\n",
    "        if self.head==None:\n",
    "            return 'Empty_LL'\n",
    "        else:\n",
    "            curr = self.head\n",
    "            while curr!=None:\n",
    "                if curr.next.key==key:\n",
    "                    break\n",
    "                curr = curr.next \n",
    "                \n",
    "            if curr.next==None:\n",
    "                return 'Not_found'\n",
    "            else:\n",
    "                curr.next = curr.next.next\n",
    "                \n",
    "    def traverse(self):\n",
    "        curr = self.head\n",
    "        while curr!=None:\n",
    "            print(curr.key,'-->',curr.value,end=\" , \")\n",
    "            curr = curr.next\n",
    "    \n",
    "    def search(self,key):\n",
    "        curr = self.head\n",
    "        pos = 0\n",
    "        while curr!=None:\n",
    "            if curr.key == key:\n",
    "                return pos\n",
    "            curr = curr.next\n",
    "            pos+=1\n",
    "        return -1 \n",
    "    \n",
    "    def insert_after(self,after,value):\n",
    "        new_node = node(value)\n",
    "        curr = self.head\n",
    "        while curr!=None:\n",
    "            if curr.data == after:\n",
    "                break\n",
    "            curr = curr.next\n",
    "        if curr!=None:\n",
    "            new_node.next = curr.next\n",
    "            curr.next = new_node\n",
    "            self.n+=1\n",
    "        else:\n",
    "            return \"Value not found\"\n",
    "        \n",
    "    def __str__(self):\n",
    "        curr = self.head\n",
    "        result = ''\n",
    "        while curr!=None:\n",
    "            result = result + str(curr.value) + str(curr.key) + \"->\"\n",
    "            curr = curr.next\n",
    "        return result[:-2]\n",
    "        \n",
    "    def pop(self):\n",
    "        if self.head==None:\n",
    "            return 'Empty linked list'\n",
    "        curr = self.head\n",
    "        while curr.next!=None:\n",
    "            self.next = None\n",
    "                \n",
    "    "
   ]
  },
  {
   "cell_type": "code",
   "execution_count": 27,
   "id": "70a0dfd1",
   "metadata": {},
   "outputs": [],
   "source": [
    "class Dictionary:\n",
    "    def __init__(self,capacity):\n",
    "        self.capacity = capacity\n",
    "        self.size = 0\n",
    "        self.buckets = self.make_array(self.capacity)\n",
    "        \n",
    "    def make_array(self,capacity):\n",
    "        l = []\n",
    "        for i in range(capacity):\n",
    "            l.append(LL())\n",
    "        "
   ]
  },
  {
   "cell_type": "code",
   "execution_count": 28,
   "id": "064fac05",
   "metadata": {},
   "outputs": [],
   "source": [
    "d = Dictionary(3)\n"
   ]
  },
  {
   "cell_type": "code",
   "execution_count": 29,
   "id": "c8eeb0ae",
   "metadata": {},
   "outputs": [
    {
     "data": {
      "text/plain": [
       "__main__.Dictionary"
      ]
     },
     "execution_count": 29,
     "metadata": {},
     "output_type": "execute_result"
    }
   ],
   "source": [
    "type(d)"
   ]
  },
  {
   "cell_type": "code",
   "execution_count": null,
   "id": "34b9a48b",
   "metadata": {},
   "outputs": [],
   "source": [
    " "
   ]
  },
  {
   "cell_type": "code",
   "execution_count": null,
   "id": "8dc159ca",
   "metadata": {},
   "outputs": [],
   "source": []
  },
  {
   "cell_type": "code",
   "execution_count": null,
   "id": "8a7da3a4",
   "metadata": {},
   "outputs": [],
   "source": []
  }
 ],
 "metadata": {
  "kernelspec": {
   "display_name": "Python 3 (ipykernel)",
   "language": "python",
   "name": "python3"
  },
  "language_info": {
   "codemirror_mode": {
    "name": "ipython",
    "version": 3
   },
   "file_extension": ".py",
   "mimetype": "text/x-python",
   "name": "python",
   "nbconvert_exporter": "python",
   "pygments_lexer": "ipython3",
   "version": "3.11.1"
  }
 },
 "nbformat": 4,
 "nbformat_minor": 5
}

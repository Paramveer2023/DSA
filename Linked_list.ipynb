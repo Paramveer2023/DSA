{
 "cells": [
  {
   "cell_type": "code",
   "execution_count": 25,
   "id": "f522e7cd",
   "metadata": {},
   "outputs": [],
   "source": [
    "class node:\n",
    "    def __init__(self,value):\n",
    "        self.data=value\n",
    "        self.next=None\n",
    "class linkedlist:\n",
    "    def __init__(self):\n",
    "        self.head=None \n",
    "        self.n=0\n",
    "    def __len__(self):\n",
    "        return self.n\n",
    "    \n",
    "    def insert_head(self,value):\n",
    "        new_node=node(value)\n",
    "        new_node.next = self.head\n",
    "        self.head = new_node\n",
    "        self.n+=1\n",
    "        \n",
    "    def append(self,value):\n",
    "        new_node = node(value)\n",
    "        if self.head == None:\n",
    "            self.head =  new_node \n",
    "            self.n+=1\n",
    "            return\n",
    "        curr = self.head\n",
    "        while curr.next!=None:\n",
    "            curr = curr.next\n",
    "        curr.next = new_node\n",
    "        self.n+=1\n",
    "    \n",
    "    def insert_after(self,after,value):\n",
    "        new_node = node(value)\n",
    "        curr = self.head\n",
    "        while curr!=None:\n",
    "            if curr.data == after:\n",
    "                break\n",
    "            curr = curr.next\n",
    "        if curr!=None:\n",
    "            new_node.next = curr.next\n",
    "            curr.next = new_node\n",
    "            self.n+=1\n",
    "        else:\n",
    "            return \"Value not found\"\n",
    "        \n",
    "    def __str__(self):\n",
    "        curr = self.head\n",
    "        result = ''\n",
    "        while curr!=None:\n",
    "            result = result + str(curr.data) + \"->\"\n",
    "            curr = curr.next\n",
    "        return result[:-2]\n",
    "    \n",
    "    def clear(self):\n",
    "        self.head=None\n",
    "        self.n=0\n",
    "        \n",
    "    def clear_head(self):\n",
    "        if self.head==None:\n",
    "            return 'Empty linked list'\n",
    "        self.head=self.head.next\n",
    "        \n",
    "    def pop(self):\n",
    "        if self.head==None:\n",
    "            return 'Empty linked list'\n",
    "        curr = self.head\n",
    "        while curr.next!=None:\n",
    "            self.next = None\n",
    "            \n",
    "    def remove(self,value):\n",
    "        if self.head.data==value:\n",
    "            self.clear_head()\n",
    "            return\n",
    "        if self.head==None:\n",
    "            return 'Empty_LL'\n",
    "        else:\n",
    "            curr = self.head\n",
    "            while curr!=None:\n",
    "                if curr.next.data==value:\n",
    "                    break\n",
    "                curr = curr.next \n",
    "                \n",
    "            if curr.next==None:\n",
    "                return 'Not_found'\n",
    "            else:\n",
    "                curr.next = curr.next.next\n",
    "                \n",
    "    def search(self,value):\n",
    "        curr = self.head\n",
    "        pos = 0\n",
    "        while curr!=None:\n",
    "            if curr.data == value:\n",
    "                return pos\n",
    "            curr = curr.next\n",
    "            pos+=1\n",
    "        return \"Not_found\""
   ]
  },
  {
   "cell_type": "code",
   "execution_count": 26,
   "id": "862f2c7e",
   "metadata": {},
   "outputs": [],
   "source": [
    "a=linkedlist()\n",
    "a.insert_head(5)\n",
    "a.insert_head(4)\n",
    "a.insert_head(12)\n",
    "a.insert_head(24)\n",
    "a.insert_head(10)\n",
    "a.append(18)\n",
    "a.append(8)\n",
    "a.insert_after(24,72)\n",
    "a.insert_after(12,400)\n"
   ]
  },
  {
   "cell_type": "code",
   "execution_count": 31,
   "id": "ad88c8cf",
   "metadata": {},
   "outputs": [
    {
     "data": {
      "text/plain": [
       "1"
      ]
     },
     "execution_count": 31,
     "metadata": {},
     "output_type": "execute_result"
    }
   ],
   "source": [
    "a.search(24)"
   ]
  },
  {
   "cell_type": "code",
   "execution_count": 24,
   "id": "58856751",
   "metadata": {},
   "outputs": [
    {
     "name": "stdout",
     "output_type": "stream",
     "text": [
      "10->24->72->12->400->4->5->18->8\n"
     ]
    }
   ],
   "source": [
    "print(a)"
   ]
  },
  {
   "cell_type": "code",
   "execution_count": null,
   "id": "23eea4d6",
   "metadata": {},
   "outputs": [],
   "source": []
  },
  {
   "cell_type": "code",
   "execution_count": null,
   "id": "df77b4ce",
   "metadata": {},
   "outputs": [],
   "source": []
  }
 ],
 "metadata": {
  "kernelspec": {
   "display_name": "Python 3 (ipykernel)",
   "language": "python",
   "name": "python3"
  },
  "language_info": {
   "codemirror_mode": {
    "name": "ipython",
    "version": 3
   },
   "file_extension": ".py",
   "mimetype": "text/x-python",
   "name": "python",
   "nbconvert_exporter": "python",
   "pygments_lexer": "ipython3",
   "version": "3.11.1"
  }
 },
 "nbformat": 4,
 "nbformat_minor": 5
}

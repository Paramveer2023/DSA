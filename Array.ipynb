{
 "cells": [
  {
   "cell_type": "code",
   "execution_count": 1,
   "id": "65c347ec",
   "metadata": {},
   "outputs": [
    {
     "name": "stdout",
     "output_type": "stream",
     "text": [
      "[25,45,35,41]\n"
     ]
    }
   ],
   "source": [
    "import ctypes\n",
    "class mylist:\n",
    "    def __init__(self):\n",
    "        self.size=1\n",
    "        self.n=0\n",
    "        self.A=self.__make_array(self.size)\n",
    "        \n",
    "    def __make_array(self,capacity):\n",
    "        return (capacity*ctypes.py_object)()\n",
    "    \n",
    "    \n",
    "    def append(self,value):\n",
    "        if self.n==self.size:\n",
    "           self._resize(self.size*2) \n",
    "           \n",
    "        self.A[self.n]=value\n",
    "        self.n+=1\n",
    "    \n",
    "    def _resize(self,new_capacity):\n",
    "        B = self.__make_array(new_capacity)\n",
    "        self.size=new_capacity\n",
    "#         'copying elements of B in A'\n",
    "        for i in range(self.n):\n",
    "            B[i]=self.A[i]\n",
    "        self.A=B\n",
    "        \n",
    "        \n",
    "    def __str__(self):\n",
    "        result=''\n",
    "        for i in range(self.n):\n",
    "            result = result+str(self.A[i])+','\n",
    "        return '['+result[:-1]+']'\n",
    "    \n",
    "    \n",
    "    def __getitem__(self,index):\n",
    "        if 0<= index <self.n:\n",
    "            return self.A[index]\n",
    "        else:\n",
    "            return'index out of range'\n",
    "        \n",
    "        \n",
    "    def pop(self):\n",
    "        if self.n==0:\n",
    "            print('List out of range')\n",
    "        print(self.A[self.n-1])\n",
    "        self.n = self.n-1\n",
    "        \n",
    "        \n",
    "    def clear(self):\n",
    "        self.n=0\n",
    "        self.size=1\n",
    "        print('[]')\n",
    "        \n",
    "        \n",
    "    def __len__(self):\n",
    "        return (self.n)\n",
    "    \n",
    "    \n",
    "    def find(self,v):\n",
    "        for i in range(self.n):\n",
    "            if self.A[i]==v:\n",
    "                return i\n",
    "        return (\"out of list\")\n",
    "    \n",
    "    \n",
    "    def insert(self,value,pos):\n",
    "        if self.n==self.size:\n",
    "            self._resize(self.size*2) \n",
    "        for i in range(self.n,pos,-1):\n",
    "            self.A[i]=self.A[i-1]\n",
    "        self.A[pos]=value\n",
    "        self.n+=1\n",
    "        \n",
    "    def __delitem__(self,index):\n",
    "        if index<self.n:\n",
    "            for i in range(index,self.n-1):\n",
    "                self.A[i]=self.A[i+1]\n",
    "            self.n=self.n-1\n",
    "        else:    \n",
    "            return 'Out of range error'\n",
    "        \n",
    "    def remove(self,value):\n",
    "        pos = self.find(value)\n",
    "        if type(pos)==int:\n",
    "            self.__delitem__(pos)\n",
    "        else:\n",
    "            return pos\n",
    "        \n",
    "    def extend(self,lst):\n",
    "        if type(lst)==list:\n",
    "            if (self.n+len(lst))>=self.size:\n",
    "                self._resize(len(lst))\n",
    "            else:\n",
    "                for i in range(len(lst)):\n",
    "                    self.A[self.n+i]=lst[i]\n",
    "        return 'Only accepts list '\n",
    "        \n",
    "\n",
    "l = mylist()\n",
    "l.append(25)\n",
    "l.append(45)\n",
    "l.append(35)\n",
    "l.append(41)\n",
    "len(l)\n",
    "print(l)\n"
   ]
  },
  {
   "cell_type": "code",
   "execution_count": 2,
   "id": "3bf81c6e",
   "metadata": {},
   "outputs": [
    {
     "data": {
      "text/plain": [
       "'Only accepts list '"
      ]
     },
     "execution_count": 2,
     "metadata": {},
     "output_type": "execute_result"
    }
   ],
   "source": [
    "l.extend([2,4,7,8])"
   ]
  },
  {
   "cell_type": "code",
   "execution_count": 3,
   "id": "145499f9",
   "metadata": {},
   "outputs": [
    {
     "name": "stdout",
     "output_type": "stream",
     "text": [
      "[25,45,35,41]\n"
     ]
    }
   ],
   "source": [
    "\n",
    "\n",
    "\n",
    "print(l)"
   ]
  },
  {
   "cell_type": "code",
   "execution_count": 4,
   "id": "d257e122",
   "metadata": {},
   "outputs": [
    {
     "data": {
      "text/plain": [
       "list"
      ]
     },
     "execution_count": 4,
     "metadata": {},
     "output_type": "execute_result"
    }
   ],
   "source": [
    "type([])"
   ]
  },
  {
   "cell_type": "code",
   "execution_count": null,
   "id": "0dfc746d",
   "metadata": {},
   "outputs": [],
   "source": [
    "\n",
    "   "
   ]
  },
  {
   "cell_type": "code",
   "execution_count": null,
   "id": "87ca9cb9",
   "metadata": {},
   "outputs": [],
   "source": [
    "class node:\n",
    "    def __init__(self,value):\n",
    "        self.data=value\n",
    "        self.next=None\n",
    "class linkedlist:\n",
    "    def __init__(self):\n",
    "        self.head=None \n",
    "        self.n=0\n",
    "    def __len__(self):\n",
    "        return self.n\n",
    "    \n",
    "    def insert_head(self,value):\n",
    "        new_node=node(value)\n",
    "        new_node.next = self.head\n",
    "        self.head = new_node\n",
    "        self.n+=1\n",
    "        \n",
    "    def append(self,value):\n",
    "        new_node = node(value)\n",
    "        if self.head == None:\n",
    "            self.head =  new_node \n",
    "            self.n+=1\n",
    "            return\n",
    "        curr = self.head\n",
    "        while curr.next!=None:\n",
    "            curr = curr.next\n",
    "        curr.next = new_node\n",
    "        self.n+=1\n",
    "    \n",
    "    def insert_after(self,after,value):\n",
    "        new_node = node(value)\n",
    "        curr = self.head\n",
    "        while curr!=None:\n",
    "            if curr.data == after:\n",
    "                break\n",
    "            curr = curr.next\n",
    "        if curr!=None:\n",
    "            new_node.next = curr.next\n",
    "            curr.next = new_node\n",
    "            self.n+=1\n",
    "        else:\n",
    "            return \"Value not found\"\n",
    "        \n",
    "    def __str__(self):\n",
    "        curr = self.head\n",
    "        result = ''\n",
    "        while curr!=None:\n",
    "            result = result + str(curr.data) + \"->\"\n",
    "            curr = curr.next\n",
    "        return result[:-2]\n",
    "    \n",
    "    def clear(self):\n",
    "        self.head=None\n",
    "        self.n=0\n",
    "    def clear_Head(self):\n",
    "        if self.head==None:\n",
    "            return 'Empty linked list'\n",
    "        self.head=self.head.next\n",
    "    def pop(self):\n",
    "        if self.head==None:\n",
    "            return 'Empty linked list'\n",
    "        curr = self.head\n",
    "        while curr.next!=None:\n",
    "            self.next = None\n",
    "    def remove(self,value):\n",
    "        curr = self.head\n",
    "        while curr!=None:\n",
    "            if curr.data == value:\n",
    "                curr = curr.next\n",
    "                break\n",
    "            curr = curr.next\n",
    "    \n",
    "     \n",
    "    "
   ]
  },
  {
   "cell_type": "code",
   "execution_count": null,
   "id": "0974d97a",
   "metadata": {},
   "outputs": [],
   "source": [
    "a=linkedlist()\n",
    "a.insert_head(5)\n",
    "a.insert_head(4)\n",
    "a.insert_head(12)\n",
    "a.insert_head(24)\n",
    "a.insert_head(10)\n",
    "a.append(18)\n",
    "a.append(8)\n",
    "a.insert_after(24,72)\n",
    "a.insert_after(12,400)\n"
   ]
  },
  {
   "cell_type": "code",
   "execution_count": null,
   "id": "9a49cb96",
   "metadata": {},
   "outputs": [],
   "source": [
    "print(a)\n",
    "a.pop()\n",
    "print(a)"
   ]
  },
  {
   "cell_type": "code",
   "execution_count": null,
   "id": "2ee96f82",
   "metadata": {},
   "outputs": [],
   "source": []
  }
 ],
 "metadata": {
  "kernelspec": {
   "display_name": "Python 3 (ipykernel)",
   "language": "python",
   "name": "python3"
  },
  "language_info": {
   "codemirror_mode": {
    "name": "ipython",
    "version": 3
   },
   "file_extension": ".py",
   "mimetype": "text/x-python",
   "name": "python",
   "nbconvert_exporter": "python",
   "pygments_lexer": "ipython3",
   "version": "3.11.1"
  }
 },
 "nbformat": 4,
 "nbformat_minor": 5
}
